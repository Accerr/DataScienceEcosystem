{
 "cells": [
  {
   "cell_type": "markdown",
   "id": "43f690dc",
   "metadata": {},
   "source": [
    "<h1>Data Science Tools and Ecosystem<h1>"
   ]
  },
  {
   "cell_type": "markdown",
   "id": "d8ea52f4",
   "metadata": {},
   "source": [
    "In this notebook, Data Science Tools and Ecosystem are summarized."
   ]
  },
  {
   "cell_type": "markdown",
   "id": "e0d2812a",
   "metadata": {},
   "source": [
    "<b>Objectives:</b>\n",
    "<ul>\n",
    "    <li>Python,</li>\n",
    "    <li>R,</li>\n",
    "    <li>SQL.</li>\n",
    "   \n",
    "</ul>"
   ]
  },
  {
   "cell_type": "markdown",
   "id": "ae3396d7",
   "metadata": {},
   "source": [
    "Some of the commonly used libraries used by Data Scientists include:\n",
    "<ul>\n",
    "    <li>pandas,</li>\n",
    "    <li>numpy,</li>\n",
    "    <li>keraas,</li>\n",
    "    <li>pytorch.</li>\n",
    "</ul>\n"
   ]
  },
  {
   "cell_type": "markdown",
   "id": "0c94672c",
   "metadata": {},
   "source": [
    "<table>\n",
    "<tr>\n",
    "<th>Data Science Tools</th>\n",
    "\n",
    "</tr>\n",
    "\n",
    "<tr>\n",
    "<td>Visual Studio</td>\n",
    "\n",
    "</tr>\n",
    "\n",
    "<tr>\n",
    "<td>PyCharm</td>\n",
    "\n",
    "</tr>\n",
    "    \n",
    "<tr>\n",
    "<td>Spyder</td>\n",
    "\n",
    "</tr>\n",
    "    \n",
    "    \n",
    "</table>\n"
   ]
  },
  {
   "cell_type": "markdown",
   "id": "5ec738e8",
   "metadata": {},
   "source": [
    "<h2> Author<h2>"
   ]
  },
  {
   "cell_type": "markdown",
   "id": "72b9e34f",
   "metadata": {},
   "source": [
    "Jhon Travolta"
   ]
  },
  {
   "cell_type": "markdown",
   "id": "95efb36d",
   "metadata": {},
   "source": [
    " name"
   ]
  },
  {
   "cell_type": "markdown",
   "id": "481fcc93",
   "metadata": {},
   "source": [
    "<h3>Below are a few examples of evaluating arithmetic expressions in Python<h3>"
   ]
  },
  {
   "cell_type": "markdown",
   "id": "3019641e",
   "metadata": {},
   "source": [
    "This a simple arithmetic expression to mutiply then add integers"
   ]
  },
  {
   "cell_type": "code",
   "execution_count": 5,
   "id": "8e78b5b4",
   "metadata": {},
   "outputs": [
    {
     "data": {
      "text/plain": [
       "17"
      ]
     },
     "execution_count": 5,
     "metadata": {},
     "output_type": "execute_result"
    }
   ],
   "source": [
    "(3*4)+5"
   ]
  },
  {
   "cell_type": "markdown",
   "id": "243ea06a",
   "metadata": {},
   "source": [
    "This will convert 200 minutes to hours by diving by 60"
   ]
  },
  {
   "cell_type": "code",
   "execution_count": 3,
   "id": "eacf68e6",
   "metadata": {},
   "outputs": [
    {
     "data": {
      "text/plain": [
       "3.3333333333333335"
      ]
     },
     "execution_count": 3,
     "metadata": {},
     "output_type": "execute_result"
    }
   ],
   "source": [
    "200/60"
   ]
  },
  {
   "cell_type": "markdown",
   "id": "d2a0f948",
   "metadata": {},
   "source": [
    "or"
   ]
  },
  {
   "cell_type": "code",
   "execution_count": 4,
   "id": "573e79ed",
   "metadata": {},
   "outputs": [
    {
     "data": {
      "text/plain": [
       "3"
      ]
     },
     "execution_count": 4,
     "metadata": {},
     "output_type": "execute_result"
    }
   ],
   "source": [
    "200//60"
   ]
  },
  {
   "cell_type": "code",
   "execution_count": null,
   "id": "0b4923a3",
   "metadata": {},
   "outputs": [],
   "source": []
  }
 ],
 "metadata": {
  "kernelspec": {
   "display_name": "Python 3 (ipykernel)",
   "language": "python",
   "name": "python3"
  },
  "language_info": {
   "codemirror_mode": {
    "name": "ipython",
    "version": 3
   },
   "file_extension": ".py",
   "mimetype": "text/x-python",
   "name": "python",
   "nbconvert_exporter": "python",
   "pygments_lexer": "ipython3",
   "version": "3.10.9"
  }
 },
 "nbformat": 4,
 "nbformat_minor": 5
}
